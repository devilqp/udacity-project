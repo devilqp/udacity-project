{
 "cells": [
  {
   "cell_type": "markdown",
   "metadata": {
    "editable": true
   },
   "source": [
    "# Simple Etl Test"
   ]
  },
  {
   "cell_type": "code",
   "execution_count": null,
   "metadata": {
    "editable": true
   },
   "outputs": [],
   "source": [
    "import configparser\n",
    "from datetime import datetime\n",
    "import os\n",
    "from pyspark.sql import SparkSession\n",
    "from pyspark.sql.functions import udf, col,  monotonically_increasing_id \n",
    "\n",
    "from pyspark.sql.functions import year, month, dayofmonth, hour, weekofyear, date_format, desc, dayofweek\n",
    "from pyspark.sql.types import TimestampType, MapType, StringType"
   ]
  },
  {
   "cell_type": "code",
   "execution_count": null,
   "metadata": {
    "editable": true
   },
   "outputs": [],
   "source": [
    "config = configparser.ConfigParser()\n",
    "config.read('dl.cfg')\n",
    "\n",
    "os.environ['AWS_ACCESS_KEY_ID']=config[\"AWS\"]['AWS_ACCESS_KEY_ID']\n",
    "os.environ['AWS_SECRET_ACCESS_KEY']=config[\"AWS\"]['AWS_SECRET_ACCESS_KEY']"
   ]
  },
  {
   "cell_type": "code",
   "execution_count": null,
   "metadata": {
    "editable": true
   },
   "outputs": [],
   "source": [
    "#local data\n",
    "\"\"\"input_data = {\n",
    "    \"logs\": \"data/log_data\",\n",
    "    \"songs\": \"data/song_data\"\n",
    "}\n",
    "output_data = \"output\"\n",
    "\"\"\"\n",
    "\n",
    "input_data = {\n",
    "        \"logs\": \"s3a://udacity-dend/log_data\",\n",
    "        \"songs\": \"s3a://udacity-dend/song_data\"\n",
    "}\n",
    "output_data = \"s3a://my-udacity-spark-bucket/output\"\n",
    "\n",
    "\n"
   ]
  },
  {
   "cell_type": "code",
   "execution_count": null,
   "metadata": {
    "editable": true
   },
   "outputs": [],
   "source": [
    "#Init Spark\n",
    "def create_spark_session():\n",
    "    spark = SparkSession \\\n",
    "        .builder \\\n",
    "        .config(\"spark.jars.packages\", \"org.apache.hadoop:hadoop-aws:2.7.0\") \\\n",
    "        .getOrCreate()\n",
    "    return spark\n",
    "\n",
    "spark = create_spark_session()\n",
    "spark"
   ]
  },
  {
   "cell_type": "markdown",
   "metadata": {
    "editable": true
   },
   "source": [
    "# Process songs data"
   ]
  },
  {
   "cell_type": "code",
   "execution_count": null,
   "metadata": {
    "editable": true
   },
   "outputs": [],
   "source": [
    "# get filepath to song data file\n",
    "song_data = input_data[\"songs\"] + \"/*/*/*/*.json\"\n",
    "\n",
    "# read song data file\n",
    "df = spark.read.json(song_data)\n",
    "\n",
    "df.limit(10).toPandas()"
   ]
  },
  {
   "cell_type": "code",
   "execution_count": null,
   "metadata": {
    "editable": true
   },
   "outputs": [],
   "source": [
    "df.printSchema()"
   ]
  },
  {
   "cell_type": "code",
   "execution_count": null,
   "metadata": {
    "editable": true
   },
   "outputs": [],
   "source": [
    "# extract columns to create songs table\n",
    "songs_table = df.select(\"song_id\", \"title\", \"artist_id\", \"year\", \"duration\")\n",
    "print(\"total songs:\",songs_table.count())\n",
    "songs_table = songs_table.distinct()\n",
    "print(\"total distinct songs:\",songs_table.count())\n",
    "songs_table.limit(10).toPandas()\n",
    "songs_table.groupBy(\"title\").count().orderBy(desc(\"count\")).limit(10).toPandas()"
   ]
  },
  {
   "cell_type": "code",
   "execution_count": null,
   "metadata": {
    "editable": true
   },
   "outputs": [],
   "source": [
    "# write songs table to parquet files partitioned by year and artist\n",
    "songs_table.write.partitionBy(\"year\",\"artist_id\").mode(\"overwrite\").parquet(output_data + \"/songs\")"
   ]
  },
  {
   "cell_type": "code",
   "execution_count": null,
   "metadata": {
    "editable": true
   },
   "outputs": [],
   "source": [
    "# extract columns to create artists table\n",
    "artists_table = df.select(\"artist_id\", \"artist_name\", \"artist_location\", \"artist_latitude\", \"artist_longitude\")\\\n",
    "                    .withColumnRenamed(\"artist_name\", \"name\")\\\n",
    "                    .withColumnRenamed(\"artist_location\", \"location\")\\\n",
    "                    .withColumnRenamed(\"artist_latitude\", \"latitude\")\\\n",
    "                    .withColumnRenamed(\"artist_longitude\", \"longitude\")\\\n",
    "                    .distinct()\n",
    "\n",
    "artists_table.limit(10).toPandas()"
   ]
  },
  {
   "cell_type": "code",
   "execution_count": null,
   "metadata": {
    "editable": true
   },
   "outputs": [],
   "source": [
    "# write artists table to parquet files\n",
    "artists_table.write.mode(\"overwrite\").parquet(output_data + \"/artists\")"
   ]
  },
  {
   "cell_type": "markdown",
   "metadata": {
    "editable": true
   },
   "source": [
    "# Process logs data"
   ]
  },
  {
   "cell_type": "code",
   "execution_count": null,
   "metadata": {
    "editable": true
   },
   "outputs": [],
   "source": [
    "# get filepath to log data file\n",
    "log_data = input_data[\"logs\"] + \"/*.json\"\n",
    "\n",
    "# read log data file\n",
    "df = spark.read.json(log_data)\n",
    "\n",
    "df.limit(5).toPandas()"
   ]
  },
  {
   "cell_type": "code",
   "execution_count": null,
   "metadata": {
    "editable": true
   },
   "outputs": [],
   "source": [
    "df.printSchema()"
   ]
  },
  {
   "cell_type": "code",
   "execution_count": null,
   "metadata": {
    "editable": true
   },
   "outputs": [],
   "source": [
    "# filter by actions for song plays\n",
    "df = df.filter(df.page == \"NextSong\")\n",
    "df.limit(5).toPandas()"
   ]
  },
  {
   "cell_type": "code",
   "execution_count": null,
   "metadata": {
    "editable": true
   },
   "outputs": [],
   "source": [
    "# extract columns for users table    \n",
    "users_table = df.select(\"userId\", \"firstName\", \"lastName\", \"gender\", \"level\")\\\n",
    "                .withColumnRenamed(\"userId\", \"user_id\")\\\n",
    "                .withColumnRenamed(\"firstName\", \"first_name\")\\\n",
    "                .withColumnRenamed(\"lastName\", \"last_name\")\\\n",
    "                .distinct()\n",
    "\n",
    "\n",
    "users_table.limit(10).toPandas()"
   ]
  },
  {
   "cell_type": "code",
   "execution_count": null,
   "metadata": {
    "editable": true
   },
   "outputs": [],
   "source": [
    "# write users table to parquet files\n",
    "users_table.write.mode(\"overwrite\").parquet(output_data + \"/users\")"
   ]
  },
  {
   "cell_type": "code",
   "execution_count": null,
   "metadata": {
    "editable": true
   },
   "outputs": [],
   "source": [
    "# create datetime column from original timestamp column\n",
    "get_datetime = udf(lambda ts: datetime.fromtimestamp(ts/1000), TimestampType())\n",
    "df = df.withColumn(\"datetime\", get_datetime(df.ts))\n",
    "df.limit(10).toPandas()"
   ]
  },
  {
   "cell_type": "code",
   "execution_count": null,
   "metadata": {
    "editable": true
   },
   "outputs": [],
   "source": [
    "# extract columns to create time table\n",
    "time_table = df.select(\"ts\", \"datetime\")\\\n",
    "                .withColumn(\"hour\", hour(df.datetime))\\\n",
    "                .withColumn(\"day\", dayofmonth(df.datetime))\\\n",
    "                .withColumn(\"week\", weekofyear(df.datetime))\\\n",
    "                .withColumn(\"month\", month(df.datetime))\\\n",
    "                .withColumn(\"year\", year(df.datetime))\\\n",
    "                .withColumn(\"weekday\", dayofweek(df.datetime))\\\n",
    "                .withColumnRenamed(\"ts\", \"start_time\").distinct()\n",
    "    \n",
    "time_table = time_table.drop(\"datetime\")\n",
    "time_table.limit(10).toPandas()"
   ]
  },
  {
   "cell_type": "code",
   "execution_count": null,
   "metadata": {
    "editable": true
   },
   "outputs": [],
   "source": [
    "# write time table to parquet files partitioned by year and month\n",
    "time_table.write.partitionBy(\"year\",\"month\").mode(\"overwrite\").parquet(output_data + \"/time\")"
   ]
  },
  {
   "cell_type": "code",
   "execution_count": null,
   "metadata": {
    "editable": true
   },
   "outputs": [],
   "source": [
    "# Songs support\n",
    "songs_support = songs_table.join(artists_table, songs_table.artist_id == artists_table.artist_id).select(\"song_id\", \"title\",artists_table.artist_id, \"duration\", \"name\")\n",
    "\n",
    "songs_support.limit(10).toPandas()"
   ]
  },
  {
   "cell_type": "code",
   "execution_count": null,
   "metadata": {
    "editable": true
   },
   "outputs": [],
   "source": [
    "# extract columns from joined song and log datasets to create songplays table \n",
    "songplays_table = df.join(songs_support, (df.song == songs_support.title) & (df.artist == songs_support.name) & (df.length == songs_support.duration) )\\\n",
    "                    .join(time_table, df.ts == time_table.start_time)\\\n",
    "                    .withColumn(\"id\", monotonically_increasing_id())\\\n",
    "                    .select(\"id\",\"ts\", \"year\", \"month\", \"userId\", \"level\", \"song_id\", \"artist_id\", \"sessionId\", \"location\", \"userAgent\")\\\n",
    "                    .withColumnRenamed(\"ts\", \"start_time\")\\\n",
    "                    .withColumnRenamed(\"userId\", \"user_id\")\\\n",
    "                    .withColumnRenamed(\"sessionId\", \"session_id\")\\\n",
    "                    .withColumnRenamed(\"userAgent\", \"user_agent\")\n",
    "\n",
    "songplays_table.limit(10).toPandas()"
   ]
  },
  {
   "cell_type": "code",
   "execution_count": null,
   "metadata": {
    "editable": true
   },
   "outputs": [],
   "source": [
    "# write songplays table to parquet files\n",
    "songplays_table.write.partitionBy(\"year\",\"month\").mode(\"overwrite\").parquet(output_data + \"/songplays\")"
   ]
  }
 ],
 "metadata": {
  "kernelspec": {
   "display_name": "Python 3",
   "language": "python",
   "name": "python3"
  },
  "language_info": {
   "codemirror_mode": {
    "name": "ipython",
    "version": 3
   },
   "file_extension": ".py",
   "mimetype": "text/x-python",
   "name": "python",
   "nbconvert_exporter": "python",
   "pygments_lexer": "ipython3",
   "version": "3.9.5"
  }
 },
 "nbformat": 4,
 "nbformat_minor": 4
}
